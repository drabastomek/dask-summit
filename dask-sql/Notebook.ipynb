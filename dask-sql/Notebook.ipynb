{
 "cells": [
  {
   "cell_type": "markdown",
   "metadata": {},
   "source": [
    "# dask-sql"
   ]
  },
  {
   "cell_type": "markdown",
   "metadata": {},
   "source": [
    "### A Python SQL query engine built on top of Dask"
   ]
  },
  {
   "cell_type": "markdown",
   "metadata": {},
   "source": [
    "* [Website](https://nils-braun.github.io/dask-sql/)\n",
    "* [Docs](https://dask-sql.readthedocs.io/en/latest/)\n",
    "* [GitHub](https://github.com/nils-braun/dask-sql)"
   ]
  },
  {
   "cell_type": "markdown",
   "metadata": {},
   "source": [
    "* **Combine the power of Python and SQL**: load your data with Python, transform it with SQL, enhance it with Python and query it with SQL - or the other way round. With dask-sql you can mix the well known Python dataframe API of pandas and Dask with common SQL operations, to process your data in exactly the way that is easiest for you.\n",
    "\n",
    "* **Infinite Scaling**: using the power of the great Dask ecosystem, your computations can scale as you need it - from your laptop to your super cluster - without changing any line of SQL code. From k8s to cloud deployments, from batch systems to YARN - if Dask supports it, so will dask-sql.\n",
    "\n",
    "* **Your data - your queries**: Use Python user-defined functions (UDFs) in SQL without any performance drawback and extend your SQL queries with the large number of Python libraries, e.g. machine learning, different complicated input formats, complex statistics.\n",
    "\n",
    "* **Easy to install and maintain**: dask-sql is just a pip/conda install away (or a docker run if you prefer). No need for complicated cluster setups - dask-sql will run out of the box on your machine and can be easily connected to your computing cluster.\n",
    "\n",
    "* **Use SQL from wherever you like**: dask-sql integrates with your jupyter notebook, your normal Python module or can be used as a standalone SQL server from any BI tool. It even integrates natively with Apache Hue."
   ]
  },
  {
   "cell_type": "markdown",
   "metadata": {},
   "source": [
    "## Preparations"
   ]
  },
  {
   "cell_type": "markdown",
   "metadata": {},
   "source": [
    "1. Install `dask-sql` via `conda` or `pip`.\n",
    "\n",
    "    ```bash\n",
    "conda install dask-sql\n",
    "mamba install dask-sql\n",
    "pip install dask-sql\n",
    "    ```\n",
    "\n",
    "2. Prepare a `dask-sql` context to store the table meta-information.\n",
    "\n",
    "    ```python\n",
    "from dask_sql import Context    \n",
    "c = Context()\n",
    "    ```\n",
    "    \n",
    "That's it! All other steps are optional:\n",
    "\n",
    "3. Create a dask cluster and connect to it.\n",
    "3. Enable the `%%sql` jupyter magic."
   ]
  },
  {
   "cell_type": "code",
   "execution_count": null,
   "metadata": {},
   "outputs": [],
   "source": [
    "from collections import OrderedDict\n",
    "\n",
    "from dask_sql import Context\n",
    "from dask.distributed import Client\n",
    "import dask.dataframe as dd\n",
    "\n",
    "# Use a local Dask cluster \n",
    "client = Client()\n",
    "c = Context()"
   ]
  },
  {
   "cell_type": "code",
   "execution_count": null,
   "metadata": {},
   "outputs": [],
   "source": [
    "c.ipython_magic()"
   ]
  },
  {
   "cell_type": "code",
   "execution_count": null,
   "metadata": {},
   "outputs": [],
   "source": [
    "client"
   ]
  },
  {
   "cell_type": "markdown",
   "metadata": {},
   "source": [
    "### Query via Python Call"
   ]
  },
  {
   "cell_type": "code",
   "execution_count": null,
   "metadata": {},
   "outputs": [],
   "source": [
    "c.sql(\"SELECT 1 + 1\")"
   ]
  },
  {
   "cell_type": "code",
   "execution_count": null,
   "metadata": {},
   "outputs": [],
   "source": [
    "c.sql(\"SELECT 1 + 1\").compute()"
   ]
  },
  {
   "cell_type": "code",
   "execution_count": null,
   "metadata": {},
   "outputs": [],
   "source": [
    "c.sql(\"SELECT 1 + 1\", return_futures=False)"
   ]
  },
  {
   "cell_type": "markdown",
   "metadata": {},
   "source": [
    "### Query via Notebook Integration"
   ]
  },
  {
   "cell_type": "code",
   "execution_count": null,
   "metadata": {},
   "outputs": [],
   "source": [
    "%%sql\n",
    "SELECT 1 + 1"
   ]
  },
  {
   "cell_type": "markdown",
   "metadata": {},
   "source": [
    "### Query via SQL Server "
   ]
  },
  {
   "cell_type": "markdown",
   "metadata": {},
   "source": [
    "```python\n",
    "c.run_server(blocking=False)\n",
    "c.stop_server()\n",
    "```"
   ]
  },
  {
   "cell_type": "markdown",
   "metadata": {},
   "source": [
    "## Read in the Data"
   ]
  },
  {
   "cell_type": "markdown",
   "metadata": {},
   "source": [
    "### Download the data for the gods of the live demo"
   ]
  },
  {
   "cell_type": "markdown",
   "metadata": {},
   "source": [
    "```bash\n",
    "mkdir -p data\n",
    "wget https://s3.amazonaws.com/bsql/data/air_transport/airlines.csv -P data/\n",
    "wget https://s3.amazonaws.com/bsql/data/air_transport/airports.csv -P data/\n",
    "wget https://s3.amazonaws.com/bsql/data/air_transport/flight_ontime_2020-01.parquet -P data/\n",
    "\n",
    "```"
   ]
  },
  {
   "cell_type": "code",
   "execution_count": null,
   "metadata": {},
   "outputs": [],
   "source": [
    "! ls -lh data/"
   ]
  },
  {
   "cell_type": "markdown",
   "metadata": {},
   "source": [
    "### Reading Data 1: Register a Dask/Pandas Data Frame"
   ]
  },
  {
   "cell_type": "markdown",
   "metadata": {},
   "source": [
    "We read it via a `Dask` API call and register it at the context"
   ]
  },
  {
   "cell_type": "code",
   "execution_count": null,
   "metadata": {},
   "outputs": [],
   "source": [
    "flight_data_path = './data/flight_ontime_2020-01.parquet'\n",
    "\n",
    "air_transport = dd.read_parquet(flight_data_path)\n",
    "air_transport[\"FL_DATE\"] = air_transport[\"FL_DATE\"].astype(\"datetime64[ns]\")\n",
    "\n",
    "c.create_table('air_transport', air_transport, persist=True)"
   ]
  },
  {
   "cell_type": "code",
   "execution_count": null,
   "metadata": {},
   "outputs": [],
   "source": [
    "c.sql(\"SELECT * FROM air_transport LIMIT 5\").compute()"
   ]
  },
  {
   "cell_type": "code",
   "execution_count": null,
   "metadata": {},
   "outputs": [],
   "source": [
    "%%sql\n",
    "SELECT * FROM air_transport LIMIT 5"
   ]
  },
  {
   "cell_type": "code",
   "execution_count": null,
   "metadata": {},
   "outputs": [],
   "source": [
    "c.sql(\"SELECT COUNT(*) AS CNT FROM air_transport\").compute()"
   ]
  },
  {
   "cell_type": "markdown",
   "metadata": {},
   "source": [
    "### Reading Data 2: Read directly with dask-sql"
   ]
  },
  {
   "cell_type": "markdown",
   "metadata": {},
   "source": [
    "We read it via the dask-sql `create_table` function"
   ]
  },
  {
   "cell_type": "code",
   "execution_count": null,
   "metadata": {},
   "outputs": [],
   "source": [
    "airports_path = \"./data/airports.csv\" \n",
    "\n",
    "airports_dtypes = OrderedDict([\n",
    "    (\"Airport ID\", \"int64\"),\n",
    "    (\"Name\", \"str\"),\n",
    "    (\"City\", \"str\"),\n",
    "    (\"Country\", \"str\"),\n",
    "    (\"IATA\", \"str\"),\n",
    "    (\"ICAO\", \"str\"),\n",
    "    (\"Latitude\", \"float64\"),\n",
    "    (\"Longitude\", \"float64\"),\n",
    "    (\"Altitude\", \"int64\"), \n",
    "    (\"Unused\", \"str\"), \n",
    "    (\"Timezone\", \"str\"),\n",
    "    (\"DST\", \"str\"),\n",
    "    (\"Type\", \"str\"),\n",
    "    (\"Source\", \"str\"),\n",
    "])\n",
    "\n",
    "c.create_table(\n",
    "    \"airports\",\n",
    "    airports_path, \n",
    "    error_bad_lines=False,\n",
    "    names=list(airports_dtypes.keys()), \n",
    "    format=\"csv\",\n",
    "    dtype=airports_dtypes,\n",
    "    storage_options={'anon': True}\n",
    ")"
   ]
  },
  {
   "cell_type": "code",
   "execution_count": null,
   "metadata": {},
   "outputs": [],
   "source": [
    "airlines_path = \"./data/airlines.csv\"\n",
    "\n",
    "airlines_dtypes = OrderedDict([\n",
    "    ('Airline ID', 'int64'),\n",
    "    ('Name', 'str'),\n",
    "    ('Alias', 'str'),\n",
    "    ('IATA', 'str'),\n",
    "    ('ICAO', 'str'),\n",
    "    ('Callsign', 'str'),\n",
    "    ('Country', 'str'),\n",
    "    ('Active', 'str'),\n",
    "])\n",
    "\n",
    "c.create_table(\n",
    "    \"airlines\",\n",
    "    airlines_path,\n",
    "    names=list(airlines_dtypes.keys()), \n",
    "    dtype=airlines_dtypes,\n",
    "    storage_options={'anon': True},\n",
    "    format=\"csv\",\n",
    ")"
   ]
  },
  {
   "cell_type": "code",
   "execution_count": null,
   "metadata": {},
   "outputs": [],
   "source": [
    "%%sql\n",
    "SELECT * FROM airports LIMIT 5"
   ]
  },
  {
   "cell_type": "markdown",
   "metadata": {},
   "source": [
    "## Queries"
   ]
  },
  {
   "cell_type": "markdown",
   "metadata": {},
   "source": [
    "### Build a joined dataset"
   ]
  },
  {
   "cell_type": "code",
   "execution_count": null,
   "metadata": {},
   "outputs": [],
   "source": [
    "%%sql\n",
    "\n",
    "SELECT A.FL_DATE\n",
    "    , A.OP_UNIQUE_CARRIER\n",
    "    , B.Name AS CARRIER_NAME\n",
    "    , A.ORIGIN\n",
    "    , C.Name AS ORIGIN_NAME\n",
    "    , C.City AS ORIGIN_CITY\n",
    "    , A.DEST\n",
    "    , D.Name AS DEST_NAME\n",
    "    , D.City AS DEST_CITY\n",
    "    , DEP_DELAY\n",
    "    , ARR_DELAY\n",
    "    , AIR_TIME\n",
    "    , DISTANCE\n",
    "FROM air_transport AS A\n",
    "LEFT OUTER JOIN airlines AS B\n",
    "    ON A.OP_UNIQUE_CARRIER = B.IATA\n",
    "LEFT OUTER JOIN airports AS C\n",
    "    ON A.ORIGIN = C.IATA\n",
    "LEFT OUTER JOIN airports AS D\n",
    "    ON A.DEST = D.IATA\n",
    "LIMIT 5"
   ]
  },
  {
   "cell_type": "markdown",
   "metadata": {},
   "source": [
    "### ... and register it for further usage"
   ]
  },
  {
   "cell_type": "code",
   "execution_count": null,
   "metadata": {},
   "outputs": [],
   "source": [
    "%%sql\n",
    "CREATE OR REPLACE TABLE info AS (\n",
    "    SELECT A.FL_DATE\n",
    "        , A.CRS_DEP_TIME\n",
    "        , A.OP_UNIQUE_CARRIER\n",
    "        , B.Name AS CARRIER_NAME\n",
    "        , A.ORIGIN\n",
    "        , C.Name AS ORIGIN_NAME\n",
    "        , C.City AS ORIGIN_CITY\n",
    "        , A.DEST\n",
    "        , D.Name AS DEST_NAME\n",
    "        , D.City AS DEST_CITY\n",
    "        , DEP_DELAY\n",
    "        , ARR_DELAY\n",
    "        , AIR_TIME\n",
    "        , DISTANCE\n",
    "    FROM air_transport AS A                \n",
    "    LEFT OUTER JOIN airlines AS B\n",
    "        ON A.OP_UNIQUE_CARRIER = B.IATA\n",
    "    LEFT OUTER JOIN airports AS C    \n",
    "        ON A.ORIGIN = C.IATA\n",
    "    LEFT OUTER JOIN airports AS D    \n",
    "        ON A.DEST = D.IATA\n",
    "    WHERE FL_DATE IS NOT NULL\n",
    ")"
   ]
  },
  {
   "cell_type": "code",
   "execution_count": null,
   "metadata": {},
   "outputs": [],
   "source": [
    "%%sql\n",
    "SELECT * FROM info LIMIT 5"
   ]
  },
  {
   "cell_type": "code",
   "execution_count": null,
   "metadata": {},
   "outputs": [],
   "source": [
    "%%sql\n",
    "SELECT COUNT(*) FROM info"
   ]
  },
  {
   "cell_type": "markdown",
   "metadata": {},
   "source": [
    "### Number of distinct origins"
   ]
  },
  {
   "cell_type": "code",
   "execution_count": null,
   "metadata": {},
   "outputs": [],
   "source": [
    "%%sql\n",
    "SELECT COUNT(DISTINCT ORIGIN) FROM info"
   ]
  },
  {
   "cell_type": "markdown",
   "metadata": {},
   "source": [
    "### Delays per ..."
   ]
  },
  {
   "cell_type": "code",
   "execution_count": null,
   "metadata": {},
   "outputs": [],
   "source": [
    "%%sql\n",
    "SELECT \n",
    "    EXTRACT(DOW FROM FL_DATE) AS \"Day of Week\",\n",
    "    AVG(ARR_DELAY) AS \"Average Delay\" \n",
    "FROM info GROUP BY EXTRACT(DOW FROM FL_DATE)"
   ]
  },
  {
   "cell_type": "code",
   "execution_count": null,
   "metadata": {},
   "outputs": [],
   "source": [
    "%%sql\n",
    "SELECT \n",
    "    EXTRACT(DAY FROM FL_DATE) AS \"Day of Year\",\n",
    "    AVG(ARR_DELAY) AS \"Average Delay\" \n",
    "FROM info GROUP BY EXTRACT(DAY FROM FL_DATE)\n",
    "LIMIT 10"
   ]
  },
  {
   "cell_type": "code",
   "execution_count": null,
   "metadata": {},
   "outputs": [],
   "source": [
    "result = c.sql(\"\"\"\n",
    "SELECT \n",
    "    EXTRACT(DAY FROM FL_DATE) AS \"Day of Year\",\n",
    "    AVG(ARR_DELAY) AS \"Average Delay\" \n",
    "FROM info GROUP BY EXTRACT(DAY FROM FL_DATE)\n",
    "\"\"\", return_futures=False)\n",
    "result.plot(x=\"Day of Year\", y=\"Average Delay\", figsize=(12, 9))"
   ]
  },
  {
   "cell_type": "markdown",
   "metadata": {},
   "source": [
    "### Ratio of Delayed Flights per Origin"
   ]
  },
  {
   "cell_type": "code",
   "execution_count": null,
   "metadata": {},
   "outputs": [],
   "source": [
    "%%sql\n",
    "SELECT ORIGIN_NAME AS \"Origin\"\n",
    "    , CAST(Delayed_Flights AS FLOAT) / All_Flights AS \"Delayed Ratio\"\n",
    "    , Delayed_Flights AS \"Delayed Flights\"\n",
    "FROM (\n",
    "    SELECT ORIGIN_NAME\n",
    "        , COUNT(*) AS All_Flights\n",
    "        , COUNT(*) FILTER (WHERE DEP_DELAY > 0) AS Delayed_Flights\n",
    "    FROM info\n",
    "    GROUP BY ORIGIN_NAME\n",
    ")\n",
    "ORDER BY \"Delayed Ratio\" DESC\n",
    "LIMIT 10"
   ]
  },
  {
   "cell_type": "markdown",
   "metadata": {},
   "source": [
    "### Distribution of Flights per Airline"
   ]
  },
  {
   "cell_type": "code",
   "execution_count": null,
   "metadata": {},
   "outputs": [],
   "source": [
    "%%sql\n",
    "SELECT CARRIER_NAME\n",
    "    , COUNT(*)\n",
    "FROM info\n",
    "GROUP BY CARRIER_NAME\n",
    "ORDER BY COUNT(*) DESC\n",
    "LIMIT 10"
   ]
  },
  {
   "cell_type": "markdown",
   "metadata": {},
   "source": [
    "### The flights with the largest delay per Airline"
   ]
  },
  {
   "cell_type": "code",
   "execution_count": null,
   "metadata": {},
   "outputs": [],
   "source": [
    "%%sql\n",
    "WITH AnnotatedData AS (\n",
    "    SELECT *\n",
    "        , ROW_NUMBER() OVER (\n",
    "            PARTITION BY CARRIER_NAME \n",
    "            ORDER BY DEP_DELAY DESC NULLS LAST\n",
    "        ) AS Delay_Order\n",
    "    FROM info\n",
    ")\n",
    "SELECT\n",
    "    *\n",
    "FROM AnnotatedData\n",
    "WHERE Delay_Order = 1\n",
    "LIMIT 5"
   ]
  },
  {
   "cell_type": "markdown",
   "metadata": {},
   "source": [
    "### Most Delayed Airlines"
   ]
  },
  {
   "cell_type": "code",
   "execution_count": null,
   "metadata": {},
   "outputs": [],
   "source": [
    "%%sql\n",
    "SELECT CARRIER_NAME\n",
    "    , COUNT(*) FILTER (WHERE DEP_DELAY > 0) AS Delayed_Flights\n",
    "FROM info\n",
    "GROUP BY CARRIER_NAME\n",
    "ORDER BY Delayed_Flights DESC\n",
    "LIMIT 10"
   ]
  },
  {
   "cell_type": "markdown",
   "metadata": {},
   "source": [
    "### User-Defined Functions"
   ]
  },
  {
   "cell_type": "code",
   "execution_count": null,
   "metadata": {},
   "outputs": [],
   "source": [
    "import numpy as np\n",
    "\n",
    "def human_readable_dow(dow):\n",
    "    weekdays = [\"Sunday\", \"Monday\", \"Tuesday\", \"Wednesday\", \"Thursday\", \"Friday\", \"Saturday\"]\n",
    "    return dow.apply(lambda i: weekdays[i], meta=(None, \"object\"))\n",
    "\n",
    "c.register_function(human_readable_dow, \"HR_DOW\", \n",
    "                    [(\"dow\", np.int64)], np.object_,\n",
    "                    replace=True)"
   ]
  },
  {
   "cell_type": "code",
   "execution_count": null,
   "metadata": {},
   "outputs": [],
   "source": [
    "%%sql\n",
    "SELECT HR_DOW(EXTRACT(DOW FROM FL_DATE)) AS \"DOW\"\n",
    "    , COUNT(*) AS Flights\n",
    "FROM info\n",
    "GROUP BY EXTRACT(DOW FROM FL_DATE)"
   ]
  },
  {
   "cell_type": "code",
   "execution_count": null,
   "metadata": {},
   "outputs": [],
   "source": [
    "result = c.sql(\"\"\"\n",
    "SELECT HR_DOW(EXTRACT(DOW FROM FL_DATE)) AS \"DOW\"\n",
    "    , COUNT(*) AS Flights\n",
    "FROM info\n",
    "GROUP BY EXTRACT(DOW FROM FL_DATE)\n",
    "\"\"\", return_futures=False)\n",
    "result.plot(x=\"DOW\", y=\"Flights\", kind=\"bar\", \n",
    "            title=\"Flights per Weekday\")"
   ]
  }
 ],
 "metadata": {
  "kernelspec": {
   "display_name": "Python 3",
   "language": "python",
   "name": "python3"
  },
  "language_info": {
   "codemirror_mode": {
    "name": "ipython",
    "version": 3
   },
   "file_extension": ".py",
   "mimetype": "text/x-python",
   "name": "python",
   "nbconvert_exporter": "python",
   "pygments_lexer": "ipython3",
   "version": "3.8.10"
  }
 },
 "nbformat": 4,
 "nbformat_minor": 4
}
