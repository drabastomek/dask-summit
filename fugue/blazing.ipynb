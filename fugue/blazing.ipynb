{
 "cells": [
  {
   "cell_type": "code",
   "execution_count": null,
   "id": "automated-graphic",
   "metadata": {
    "ExecuteTime": {
     "end_time": "2021-05-14T20:46:35.788650Z",
     "start_time": "2021-05-14T20:46:33.460500Z"
    }
   },
   "outputs": [],
   "source": [
    "from fugue_notebook import setup\n",
    "\n",
    "setup()\n",
    "\n",
    "#from dask_sql.integrations import fugue\n",
    "import fugue_blazing"
   ]
  },
  {
   "cell_type": "code",
   "execution_count": null,
   "id": "ignored-warehouse",
   "metadata": {
    "ExecuteTime": {
     "end_time": "2021-05-14T20:46:40.742894Z",
     "start_time": "2021-05-14T20:46:40.109171Z"
    }
   },
   "outputs": [],
   "source": [
    "%%fsql\n",
    "airports = \n",
    "    LOAD CSV \"/tmp/airports.csv\"\n",
    "    COLUMNS airport_id:long,name:str,city:str,country:str,iata:str,icao:str,lat:double,lng:double,alt:long,timezone:str,dst:str,type:str,source:str\n",
    "YIELD DATAFRAME\n",
    "PRINT\n",
    "\n",
    "airlines = \n",
    "    LOAD CSV \"/tmp/airlines.csv\"\n",
    "    COLUMNS airline_id:long,name:str,alias:str,iata:str,icao:str,callsign:str,country:str,active:str\n",
    "YIELD DATAFRAME\n",
    "PRINT"
   ]
  },
  {
   "cell_type": "code",
   "execution_count": null,
   "id": "formed-attempt",
   "metadata": {},
   "outputs": [],
   "source": [
    "airports.native"
   ]
  },
  {
   "cell_type": "code",
   "execution_count": null,
   "id": "effective-windsor",
   "metadata": {},
   "outputs": [],
   "source": [
    "import pandas as pd\n",
    "from triad import Schema\n",
    "from typing import List, Iterable, Dict, Any\n",
    "\n",
    "df = pd.read_parquet(\"https://s3.amazonaws.com/bsql/data/air_transport/flight_ontime_2020-01.parquet\")\n",
    "schema = Schema(df.iloc[: , :-1])\n",
    "print(schema)"
   ]
  },
  {
   "cell_type": "code",
   "execution_count": null,
   "id": "emotional-variety",
   "metadata": {},
   "outputs": [],
   "source": [
    "import pandas as pd\n",
    "\n",
    "files = [[f\"https://s3.amazonaws.com/bsql/data/air_transport/flight_ontime_2020-0{i}.parquet\"] for i in [1,2,3,4,5]]\n",
    "files_df = pd.DataFrame(files, columns=[\"path\"])\n",
    "\n",
    "files_df"
   ]
  },
  {
   "cell_type": "code",
   "execution_count": null,
   "id": "modular-circular",
   "metadata": {},
   "outputs": [],
   "source": [
    "from typing import Dict, Any, List, Iterable\n",
    "import os\n",
    "from shutil import rmtree\n",
    "\n",
    "def download(files:pd.DataFrame,path:str) -> None:\n",
    "    os.makedirs(path,exist_ok=True)\n",
    "    for file in files[\"path\"]:\n",
    "        fn = os.path.basename(file)\n",
    "        npath = os.path.join(path,fn)\n",
    "        print(npath)\n",
    "        pd.read_parquet(file)[schema.names].to_parquet(npath)\n",
    "        \n",
    "download(files_df.head(2), \"/tmp/1.parquet\")"
   ]
  },
  {
   "cell_type": "code",
   "execution_count": null,
   "id": "exterior-kenya",
   "metadata": {},
   "outputs": [],
   "source": [
    "%%fsql dask\n",
    "OUTTRANSFORM files_df \n",
    "EVEN PREPARTITION ROWCOUNT \n",
    "USING download(path=\"/tmp/flights.parquet\")"
   ]
  },
  {
   "cell_type": "code",
   "execution_count": null,
   "id": "handed-tiffany",
   "metadata": {},
   "outputs": [],
   "source": [
    "%%fsql blazing\n",
    "LOAD \"/tmp/flights.parquet\"\n",
    "PRINT ROWCOUNT\n",
    "SELECT FL_DATE,CRS_DEP_TIME,DEP_TIME,DEP_DELAY LIMIT 50 PERSIST\n",
    "YIELD DATAFRAME AS test"
   ]
  },
  {
   "cell_type": "code",
   "execution_count": null,
   "id": "capital-transmission",
   "metadata": {},
   "outputs": [],
   "source": [
    "#schema: *,ts:datetime,day_of_year:int,hour_of_week:int\n",
    "def generate_time_metrics(df:pd.DataFrame) -> pd.DataFrame:\n",
    "    date = df[\"FL_DATE\"].astype(str) + \" \"+df[\"CRS_DEP_TIME\"].astype(str)\n",
    "    df[\"ts\"]=pd.to_datetime(date, format=\"%Y-%m-%d %H%M\")\n",
    "    df[\"day_of_year\"]=df[\"ts\"].dt.dayofyear\n",
    "    df[\"hour_of_week\"]=df[\"ts\"].dt.dayofweek*24+df[\"ts\"].dt.hour\n",
    "    return df\n",
    "\n",
    "generate_time_metrics(test.as_pandas())"
   ]
  },
  {
   "cell_type": "code",
   "execution_count": null,
   "id": "decimal-fountain",
   "metadata": {},
   "outputs": [],
   "source": [
    "%%fsql dask\n",
    "LOAD \"/tmp/flights.parquet\"\n",
    "TRANSFORM USING generate_time_metrics\n",
    "SELECT \n",
    "    ts, \n",
    "    day_of_year, \n",
    "    hour_of_week, \n",
    "    ORIGIN AS origin,\n",
    "    DEST AS dest,\n",
    "    OP_UNIQUE_CARRIER AS carrier,\n",
    "    DEP_DELAY AS delay\n",
    "PERSIST \n",
    "YIELD DATAFRAME AS flights\n",
    "PRINT ROWCOUNT"
   ]
  },
  {
   "cell_type": "code",
   "execution_count": null,
   "id": "marine-pressing",
   "metadata": {},
   "outputs": [],
   "source": [
    "import matplotlib.pyplot as plt\n",
    "\n",
    "def plot(df:pd.DataFrame,x:Any,y:Any,sort:Any,**kwargs) -> None:\n",
    "    df.sort_values(sort).plot(x=x,y=y,**kwargs)\n",
    "    plt.show()"
   ]
  },
  {
   "cell_type": "code",
   "execution_count": null,
   "id": "possible-ownership",
   "metadata": {},
   "outputs": [],
   "source": [
    "%%fsql blazing\n",
    "SELECT day_of_year, AVG(delay) AS avg_delay FROM flights GROUP BY day_of_year\n",
    "OUTPUT USING plot(x=\"day_of_year\",y=\"avg_delay\",sort=\"day_of_year\")\n",
    "\n",
    "SELECT hour_of_week, AVG(delay) AS avg_delay FROM flights GROUP BY hour_of_week\n",
    "OUTPUT USING plot(x=\"hour_of_week\",y=\"avg_delay\",sort=\"hour_of_week\")"
   ]
  },
  {
   "cell_type": "code",
   "execution_count": null,
   "id": "certified-score",
   "metadata": {},
   "outputs": [],
   "source": [
    "%%fsql blazing\n",
    "info = \n",
    "    SELECT ts\n",
    "        , carrier\n",
    "        , B.name AS carrier_name\n",
    "        , origin\n",
    "        , C.name AS origin_name      \n",
    "        , C.country AS origin_country      \n",
    "        , C.lat AS origin_lat       \n",
    "        , C.lng AS origin_lng    \n",
    "        , dest\n",
    "        , D.name AS dest_name\n",
    "        , D.country AS dest_country    \n",
    "        , D.lat AS dest_lat       \n",
    "        , D.lng AS dest_lng    \n",
    "        , delay\n",
    "    FROM flights AS A\n",
    "    LEFT OUTER JOIN airlines AS B\n",
    "        ON A.carrier = B.iata\n",
    "    LEFT OUTER JOIN airports AS C\n",
    "        ON A.origin = C.iata\n",
    "    LEFT OUTER JOIN airports AS D\n",
    "        ON A.dest = D.iata\n",
    "    WHERE C.lat IS NOT NULL AND C.lng IS NOT NULL\n",
    "        AND D.lat IS NOT NULL AND D.lng IS NOT NULL\n",
    "PERSIST YIELD DATAFRAME\n",
    "PRINT ROWCOUNT\n",
    "\n",
    "SELECT * WHERE origin_country = dest_country AND origin_country = 'United States'\n",
    "PERSIST YIELD DATAFRAME AS info_us\n",
    "PRINT ROWCOUNT"
   ]
  },
  {
   "cell_type": "code",
   "execution_count": null,
   "id": "promising-norman",
   "metadata": {},
   "outputs": [],
   "source": [
    "def plot_bar(df:pd.DataFrame,x:Any,y:Any,sort:Any,**kwargs) -> None:\n",
    "    df.sort_values(sort).plot.bar(x=x,y=y,**kwargs)\n",
    "    plt.show()"
   ]
  },
  {
   "cell_type": "code",
   "execution_count": null,
   "id": "organic-upper",
   "metadata": {},
   "outputs": [],
   "source": [
    "%%fsql blazing\n",
    "SELECT origin, AVG(delay) AS delay FROM info_us GROUP BY origin\n",
    "SELECT * ORDER BY delay DESC LIMIT 10\n",
    "OUTPUT USING plot_bar(x=\"origin\",y=\"delay\",sort=\"delay\", title=\"By Origin\")\n",
    "\n",
    "SELECT dest, AVG(delay) AS delay FROM info_us GROUP BY dest\n",
    "SELECT * ORDER BY delay DESC LIMIT 10\n",
    "OUTPUT USING plot_bar(x=\"dest\",y=\"delay\",sort=\"delay\", title=\"By Dest\")\n",
    "\n",
    "top = \n",
    "    SELECT carrier, COUNT(*) AS ct \n",
    "    FROM info_us GROUP BY carrier \n",
    "    ORDER BY ct DESC LIMIT 20\n",
    "    PERSIST YIELD DATAFRAME\n",
    "    \n",
    "info_top = \n",
    "    SELECT info_us.* FROM info_us INNER JOIN top ON info_us.carrier = top.carrier\n",
    "\n",
    "SELECT carrier_name, AVG(delay) AS delay FROM info_top GROUP BY carrier_name\n",
    "SELECT * ORDER BY delay DESC LIMIT 10\n",
    "OUTPUT USING plot_bar(x=\"carrier_name\",y=\"delay\",sort=\"delay\", title=\"By Top Carriers\")\n"
   ]
  },
  {
   "cell_type": "code",
   "execution_count": null,
   "id": "friendly-centre",
   "metadata": {},
   "outputs": [],
   "source": [
    "%%fsql blazing\n",
    "airports = \n",
    "    LOAD CSV \"/tmp/airports.csv\"\n",
    "    COLUMNS airport_id:long,name:str,city:str,country:str,iata:str,icao:str,lat:double,lng:double,alt:long,timezone:str,dst:str,type:str,source:str\n",
    "\n",
    "airlines = \n",
    "    LOAD CSV \"/tmp/airlines.csv\"\n",
    "    COLUMNS airline_id:long,name:str,alias:str,iata:str,icao:str,callsign:str,country:str,active:str\n",
    "\n",
    "LOAD \"/tmp/flights.parquet\"\n",
    "TRANSFORM USING generate_time_metrics\n",
    "flights = \n",
    "    SELECT \n",
    "        ts, \n",
    "        day_of_year, \n",
    "        hour_of_week, \n",
    "        ORIGIN AS origin,\n",
    "        DEST AS dest,\n",
    "        OP_UNIQUE_CARRIER AS carrier,\n",
    "        DEP_DELAY AS delay\n",
    "    PERSIST \n",
    "    \n",
    "SELECT day_of_year, AVG(delay) AS avg_delay FROM flights GROUP BY day_of_year\n",
    "OUTPUT USING plot(x=\"day_of_year\",y=\"avg_delay\",sort=\"day_of_year\")\n",
    "\n",
    "SELECT hour_of_week, AVG(delay) AS avg_delay FROM flights GROUP BY hour_of_week\n",
    "OUTPUT USING plot(x=\"hour_of_week\",y=\"avg_delay\",sort=\"hour_of_week\")\n",
    "\n",
    "    \n",
    "info = \n",
    "    SELECT ts\n",
    "        , carrier\n",
    "        , B.name AS carrier_name\n",
    "        , origin\n",
    "        , C.name AS origin_name      \n",
    "        , C.country AS origin_country      \n",
    "        , C.lat AS origin_lat       \n",
    "        , C.lng AS origin_lng    \n",
    "        , dest\n",
    "        , D.name AS dest_name\n",
    "        , D.country AS dest_country    \n",
    "        , D.lat AS dest_lat       \n",
    "        , D.lng AS dest_lng    \n",
    "        , delay\n",
    "    FROM flights AS A\n",
    "    LEFT OUTER JOIN airlines AS B\n",
    "        ON A.carrier = B.iata\n",
    "    LEFT OUTER JOIN airports AS C\n",
    "        ON A.origin = C.iata\n",
    "    LEFT OUTER JOIN airports AS D\n",
    "        ON A.dest = D.iata\n",
    "    WHERE C.lat IS NOT NULL AND C.lng IS NOT NULL\n",
    "        AND D.lat IS NOT NULL AND D.lng IS NOT NULL\n",
    "\n",
    "info_us = \n",
    "    SELECT * WHERE origin_country = dest_country AND origin_country = 'United States'\n",
    "    PERSIST\n",
    "    \n",
    "SELECT origin, AVG(delay) AS delay FROM info_us GROUP BY origin\n",
    "SELECT * ORDER BY delay DESC LIMIT 10\n",
    "OUTPUT USING plot_bar(x=\"origin\",y=\"delay\",sort=\"delay\", title=\"By Origin\")\n",
    "\n",
    "SELECT dest, AVG(delay) AS delay FROM info_us GROUP BY dest\n",
    "SELECT * ORDER BY delay DESC LIMIT 10\n",
    "OUTPUT USING plot_bar(x=\"dest\",y=\"delay\",sort=\"delay\", title=\"By Dest\")\n",
    "\n",
    "top = \n",
    "    SELECT carrier, COUNT(*) AS ct \n",
    "    FROM info_us GROUP BY carrier \n",
    "    ORDER BY ct DESC LIMIT 20\n",
    "    \n",
    "info_top = \n",
    "    SELECT info_us.* FROM info_us INNER JOIN top ON info_us.carrier = top.carrier\n",
    "\n",
    "SELECT carrier_name, AVG(delay) AS delay FROM info_top GROUP BY carrier_name\n",
    "SELECT * ORDER BY delay DESC LIMIT 10\n",
    "OUTPUT USING plot_bar(x=\"carrier_name\",y=\"delay\",sort=\"delay\", title=\"By Top Carriers\")\n",
    "\n"
   ]
  },
  {
   "cell_type": "code",
   "execution_count": null,
   "id": "cutting-cleveland",
   "metadata": {},
   "outputs": [],
   "source": []
  }
 ],
 "metadata": {
  "environment": {
   "name": "rapids-gpu.0-18.m65",
   "type": "gcloud",
   "uri": "gcr.io/deeplearning-platform-release/rapids-gpu.0-18:m65"
  },
  "kernelspec": {
   "display_name": "Python 3",
   "language": "python",
   "name": "python3"
  },
  "language_info": {
   "codemirror_mode": {
    "name": "ipython",
    "version": 3
   },
   "file_extension": ".py",
   "mimetype": "text/x-python",
   "name": "python",
   "nbconvert_exporter": "python",
   "pygments_lexer": "ipython3",
   "version": "3.7.10"
  }
 },
 "nbformat": 4,
 "nbformat_minor": 5
}
